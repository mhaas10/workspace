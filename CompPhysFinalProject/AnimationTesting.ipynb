{
 "cells": [
  {
   "cell_type": "code",
   "execution_count": 1,
   "metadata": {},
   "outputs": [],
   "source": [
    "import numpy as np\n",
    "import matplotlib.pyplot as plt\n",
    "from numpy import random as rng\n",
    "from mpl_toolkits.mplot3d import Axes3D\n",
    "import matplotlib.animation as animation\n",
    "from tqdm import tqdm"
   ]
  },
  {
   "cell_type": "code",
   "execution_count": 2,
   "metadata": {},
   "outputs": [],
   "source": [
    "def normallattice(N, M, value=0):\n",
    "    '''\n",
    "    This function returns an N (rows) x M (columns) lattice with identical values value\n",
    "    '''\n",
    "    return np.full((N, M), value)\n",
    "def plotlattice(lattice):\n",
    "    plt.imshow(lattice,cmap = \"binary\")\n",
    "    plt.show()\n"
   ]
  },
  {
   "cell_type": "code",
   "execution_count": 5,
   "metadata": {},
   "outputs": [],
   "source": [
    "def pointChange(lattice,i,j,BornNums,SurvNums,locs,vals):\n",
    "    if lattice[i][j] == 1:\n",
    "        for num in SurvNums:\n",
    "            if neighborSums(lattice,i,j,locs,vals) == num:\n",
    "                return 1\n",
    "        return 0\n",
    "    else:\n",
    "        for num in BornNums:\n",
    "            if neighborSums(lattice,i,j,locs,vals) == num:\n",
    "                return 1\n",
    "        return 0\n",
    "    \n",
    "def neighborSums(lattice, i , j, locs, vals):\n",
    "    ip = (i + 1) % len(lattice)\n",
    "    im = (i - 1) % len(lattice)\n",
    "    jp = (j + 1) % len(lattice[0])\n",
    "    jm = (j - 1) % len(lattice[0])\n",
    "    \n",
    "    weight = [1 for i in range(8)]\n",
    "    for i in range(len(locs)):\n",
    "        weight[locs[i]] = vals[i]\n",
    "    return (weight[4]*lattice[ip][j] + weight[3]*lattice[im][j]+ weight[1]*lattice[i][jp] + weight[6]*lattice[i][jm] + weight[2]*lattice[ip][jp] + weight[7]*lattice[ip][jm] +weight[0]*lattice[im][jp] + weight[5]*lattice[im][jm])\n",
    "def plot_lattice_pcolor(lattice, ax=None):\n",
    "    \"\"\"\n",
    "    Create a visualization of a lattice \n",
    "    \"\"\"\n",
    "    if ax is None:\n",
    "        ax = plt.gca()\n",
    "    \n",
    "    edgecolor = 'black' if max(lattice.shape) < 25 else None\n",
    "    im = ax.pcolormesh(lattice, cmap='binary', edgecolor=edgecolor, vmax=1, vmin=-1)\n",
    "    ax.set_aspect('equal')\n",
    "    return im"
   ]
  },
  {
   "cell_type": "code",
   "execution_count": 4,
   "metadata": {},
   "outputs": [],
   "source": [
    "def singleStep(lattice, B, S, locs,vals) :\n",
    "    output = normallattice(len(lattice),len(lattice[0]))\n",
    "    for i in range(len(lattice)):\n",
    "        for j in range(len(lattice[i])):\n",
    "            output[i][j] = pointChange(lattice,i,j,B,S,locs,vals)\n",
    "    return output\n",
    "def manySteps(lattice,num_steps,B = [3], S = [2,3], locs = [] , vals = []) :\n",
    "    for i in range(num_steps):\n",
    "        lattice = singleStep(lattice,B,S,locs,vals)\n",
    "        plotlattice(lattice)\n",
    "    return lattice\n",
    "def manyStepsOnePlot(lattice,num_steps,B = [3], S = [2,3],locs = [] , vals = []) :\n",
    "    plotlattice(lattice)\n",
    "    for i in range(num_steps):\n",
    "        lattice = singleStep(lattice,B,S,locs,vals)\n",
    "        plotlattice(lattice)\n",
    "    return lattice\n"
   ]
  },
  {
   "cell_type": "code",
   "execution_count": 8,
   "metadata": {},
   "outputs": [],
   "source": [
    "def PutGlider(lattice,i,j):\n",
    "    lattice[i% len(lattice)][j% len(lattice[0])] = 1\n",
    "    lattice[i% len(lattice)][(j+2) % len(lattice[0])] = 1\n",
    "    lattice[(i+1)% len(lattice)][(j+1)% len(lattice[0])] = 1\n",
    "    lattice[(i+1)% len(lattice)][(j+2)% len(lattice[0])] = 1\n",
    "    lattice[(i-1)% len(lattice)][(j+2)% len(lattice[0])] = 1\n",
    "    return lattice\n",
    "def GliderLat(size):\n",
    "    lattice = normallattice(size,size)\n",
    "    lattice = PutGlider(lattice, int(size/2),int(size/2))\n",
    "    return lattice"
   ]
  },
  {
   "cell_type": "code",
   "execution_count": 9,
   "metadata": {},
   "outputs": [],
   "source": [
    "def updatefig(lattice):\n",
    "    dataImg = history[lattice, :-1,:-1]\n",
    "    im.set_array(np.ravel(dataImg.T))\n",
    "\n",
    "    return im\n"
   ]
  },
  {
   "cell_type": "code",
   "execution_count": 15,
   "metadata": {},
   "outputs": [
    {
     "name": "stderr",
     "output_type": "stream",
     "text": [
      "Traceback (most recent call last):\n",
      "  File \"/Users/michaelhaas/anaconda3/lib/python3.7/site-packages/matplotlib/cbook/__init__.py\", line 387, in process\n",
      "    proxy(*args, **kwargs)\n",
      "  File \"/Users/michaelhaas/anaconda3/lib/python3.7/site-packages/matplotlib/cbook/__init__.py\", line 227, in __call__\n",
      "    return mtd(*args, **kwargs)\n",
      "  File \"/Users/michaelhaas/anaconda3/lib/python3.7/site-packages/matplotlib/animation.py\", line 1026, in _start\n",
      "    self._init_draw()\n",
      "  File \"/Users/michaelhaas/anaconda3/lib/python3.7/site-packages/matplotlib/animation.py\", line 1750, in _init_draw\n",
      "    self._draw_frame(next(self.new_frame_seq()))\n",
      "  File \"/Users/michaelhaas/anaconda3/lib/python3.7/site-packages/matplotlib/animation.py\", line 1777, in _draw_frame\n",
      "    for a in self._drawn_artists:\n",
      "TypeError: 'QuadMesh' object is not iterable\n"
     ]
    },
    {
     "data": {
      "image/png": "[encoded data removed]",
      "text/plain": [
       "<Figure size 432x288 with 1 Axes>"
      ]
     },
     "metadata": {
      "needs_background": "light"
     },
     "output_type": "display_data"
    }
   ],
   "source": [
    "size = 100\n",
    "Nsteps = 25\n",
    "history = []\n",
    "Bn = [3]\n",
    "Sn = [2,3]\n",
    "loc = []\n",
    "val = []\n",
    "lattice = GliderLat(size)\n",
    "\n",
    "for t in range(Nsteps):\n",
    "    lattice = singleStep(lattice, B = Bn, S = Sn, locs = loc, vals = val) \n",
    "    history.append(lattice.copy())\n",
    "history = np.asarray(history)\n",
    "fig, ax = plt.subplots()\n",
    "im = plot_lattice_pcolor(lattice, ax=ax)\n",
    "\n",
    "anim = animation.FuncAnimation(fig, updatefig, np.arange(0, len(history)), repeat=True, interval=30)\n",
    "\n",
    "plt.show()"
   ]
  },
  {
   "cell_type": "code",
   "execution_count": null,
   "metadata": {},
   "outputs": [],
   "source": []
  }
 ],
 "metadata": {
  "kernelspec": {
   "display_name": "Python 3",
   "language": "python",
   "name": "python3"
  },
  "language_info": {
   "codemirror_mode": {
    "name": "ipython",
    "version": 3
   },
   "file_extension": ".py",
   "mimetype": "text/x-python",
   "name": "python",
   "nbconvert_exporter": "python",
   "pygments_lexer": "ipython3",
   "version": "3.7.0"
  }
 },
 "nbformat": 4,
 "nbformat_minor": 2
}
