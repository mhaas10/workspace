{
 "cells": [
  {
   "cell_type": "markdown",
   "metadata": {},
   "source": [
    "Before we get started on working out any new systems, it will be fruitful to simply implement a version of Conway's Game of Life. \n",
    "\n",
    "The rules to this game are simple. \n",
    "\n",
    "We shall implement a 50 x 50 lattice with periodic boundary conditions. Each element of this lattice will either be \"alive\" or \"dead\", indicated by a 1 or a zero.\n",
    "\n",
    "Now, we can apply a condition for each element of the lattice.\n",
    "\n",
    "If a lattice element is alive, then \n",
    "    if there are 2 or 3 live neighbors, i.e neighobor sums  = 2 or 3, then it stays alive.\n",
    "    else it dies\n",
    "If a lattice element is dead, then\n",
    "    if it has 3 live neighbors, i.e neighbor sums = 3, then it becomes alive\n",
    "    else it stays dead\n",
    "    \n",
    "These are the only rules to the game, however we need to apply these rules simultaneously to all lattice elements. This will be rather difficult.\n",
    "\n",
    "We should note that we will be able to use a lot of the same code as the Ising Model system with respect to plotting our lattices."
   ]
  },
  {
   "cell_type": "markdown",
   "metadata": {},
   "source": [
    "1. Let's import some packages that will help us plot our stuff."
   ]
  },
  {
   "cell_type": "code",
   "execution_count": 1,
   "metadata": {},
   "outputs": [],
   "source": [
    "import numpy as np\n",
    "import matplotlib.pyplot as plt\n",
    "from numpy import random as rng\n",
    "from mpl_toolkits.mplot3d import Axes3D"
   ]
  },
  {
   "cell_type": "markdown",
   "metadata": {},
   "source": [
    "2. Let's commandeer some functions from the Ising Model for plotting purposes."
   ]
  },
  {
   "cell_type": "code",
   "execution_count": 47,
   "metadata": {},
   "outputs": [],
   "source": [
    "def normallattice(N, M, value=0):\n",
    "    '''\n",
    "    This function returns an N (rows) x M (columns) lattice with identical values value\n",
    "    '''\n",
    "    \n",
    "    return np.full((N, M), value)\n",
    "def plotlattice(lattice,spin_mag = 5):\n",
    "    plt.imshow(lattice,cmap = \"binary\")\n",
    "    plt.colorbar(ticks = [-1,1])\n",
    "    plt.show()"
   ]
  },
  {
   "cell_type": "markdown",
   "metadata": {},
   "source": [
    "Now, we shall implement a function which takes in a lattice point (i,j) and essentially applies the rules."
   ]
  },
  {
   "cell_type": "code",
   "execution_count": 101,
   "metadata": {},
   "outputs": [],
   "source": [
    "def neighborSumsNormal(lattice, i, j):\n",
    "    '''\n",
    "    Sums the spins of the lattice points at four neighbor sites.\n",
    "        Takes into account the size of the lattice in \n",
    "        terms of number of rows (i) and columns (j),\n",
    "        thus implementing periodic boundary conditions.\n",
    "    '''\n",
    "    ip = (i + 1) % len(lattice)\n",
    "    im = (i - 1) % len(lattice)\n",
    "    jp = (j + 1) % len(lattice[0])\n",
    "    jm = (j - 1) % len(lattice[0])\n",
    "        \n",
    "\n",
    "    return (lattice[ip][j] + lattice[im][j]+ lattice[i][jp] + lattice[i][jm] + lattice[ip][jp] + lattice[ip][jm] +lattice[im][jp] + lattice[im][jm])\n",
    " \n",
    "\n",
    "def pointChange(lattice,i,j):\n",
    "    if lattice[i][j] == 1:\n",
    "        if neighborSumsNormal(lattice,i,j) == 2 or neighborSumsNormal(lattice,i,j) == 3:\n",
    "            return 1\n",
    "        else:\n",
    "            return 0\n",
    "    else:\n",
    "        if neighborSumsNormal(lattice,i,j) == 3:\n",
    "            return 1\n",
    "        else:\n",
    "            return 0"
   ]
  },
  {
   "cell_type": "markdown",
   "metadata": {},
   "source": [
    "Now we shall run one step, and see how it works.\n",
    "\n"
   ]
  },
  {
   "cell_type": "code",
   "execution_count": null,
   "metadata": {},
   "outputs": [],
   "source": []
  },
  {
   "cell_type": "markdown",
   "metadata": {},
   "source": [
    "Now that we have done it for a single step, we want to create an animation platform that allows us to actually run a simulation. For this, we shall take inspiration from John Parker's animation tools. First, let's create a function that takes in a lattice and move it forward a single step."
   ]
  },
  {
   "cell_type": "code",
   "execution_count": 116,
   "metadata": {},
   "outputs": [],
   "source": [
    "def singleStep(lattice):\n",
    "    output = normallattice(len(lattice),len(lattice[0]))\n",
    "    for i in range(len(lattice)):\n",
    "        for j in range(len(lattice[i])):\n",
    "            output[i][j] = pointChange(lattice,i,j)\n",
    "    return output\n",
    "def manySteps(lattice,num_steps):\n",
    "    for i in range(num_steps):\n",
    "        lattice = singleStep(lattice)\n",
    "        plotlattice(lattice)\n",
    "    return lattice\n",
    "def manyStepsOnePlot(lattice,num_steps):\n",
    "    for i in range(num_steps):\n",
    "        lattice = singleStep(lattice)\n",
    "    plotlattice(lattice)\n",
    "    return lattice\n"
   ]
  },
  {
   "cell_type": "code",
   "execution_count": 126,
   "metadata": {},
   "outputs": [
    {
     "data": {
      "image/png": "[encoded data removed]",
      "text/plain": [
       "<Figure size 432x288 with 2 Axes>"
      ]
     },
     "metadata": {
      "needs_background": "light"
     },
     "output_type": "display_data"
    },
    {
     "data": {
      "image/png": "[encoded data removed]",
      "text/plain": [
       "<Figure size 432x288 with 2 Axes>"
      ]
     },
     "metadata": {
      "needs_background": "light"
     },
     "output_type": "display_data"
    }
   ],
   "source": [
    "lattice= normallattice(50,50)\n",
    "lattice[0][1] = 1\n",
    "lattice[1][1] = 1\n",
    "lattice[2][1] = 1\n",
    "\n",
    "plotlattice(lattice)\n",
    "lattice = manyStepsOnePlot(lattice,9)"
   ]
  },
  {
   "cell_type": "markdown",
   "metadata": {},
   "source": [
    "Now that we can do this, let's make a glider."
   ]
  },
  {
   "cell_type": "code",
   "execution_count": 122,
   "metadata": {},
   "outputs": [
    {
     "data": {
      "image/png": "[encoded data removed]",
      "text/plain": [
       "<Figure size 432x288 with 2 Axes>"
      ]
     },
     "metadata": {
      "needs_background": "light"
     },
     "output_type": "display_data"
    },
    {
     "data": {
      "image/png": "[encoded data removed]",
      "text/plain": [
       "<Figure size 432x288 with 2 Axes>"
      ]
     },
     "metadata": {
      "needs_background": "light"
     },
     "output_type": "display_data"
    }
   ],
   "source": [
    "lattice= normallattice(40,40)\n",
    "lattice[5][5] = 1\n",
    "lattice[5][7] = 1\n",
    "lattice[6][6] = 1\n",
    "lattice[6][7] = 1\n",
    "lattice[4][7] = 1\n",
    "plotlattice(lattice)\n",
    "lattice = manyStepsOnePlot(lattice,601)"
   ]
  },
  {
   "cell_type": "code",
   "execution_count": 139,
   "metadata": {},
   "outputs": [
    {
     "data": {
      "image/png": "[encoded data removed]",
      "text/plain": [
       "<Figure size 432x288 with 2 Axes>"
      ]
     },
     "metadata": {
      "needs_background": "light"
     },
     "output_type": "display_data"
    },
    {
     "data": {
      "image/png": "[encoded data removed]",
      "text/plain": [
       "<Figure size 432x288 with 2 Axes>"
      ]
     },
     "metadata": {
      "needs_background": "light"
     },
     "output_type": "display_data"
    }
   ],
   "source": [
    "def Glider(lattice,i,j):\n",
    "    lattice[i% len(lattice)][j% len(lattice[0])] = 1\n",
    "    lattice[i% len(lattice)][(j+2) % len(lattice[0])] = 1\n",
    "    lattice[(i+1)% len(lattice)][(j+1)% len(lattice[0])] = 1\n",
    "    lattice[(i+1)% len(lattice)][(j+2)% len(lattice[0])] = 1\n",
    "    lattice[(i-1)% len(lattice)][(j+2)% len(lattice[0])] = 1\n",
    "    return lattice\n",
    "lattice = normallattice(50,50)\n",
    "for i in range(5):\n",
    "    for j in range(5):\n",
    "        lattice = Glider(lattice,(10 +5*i) ,10+5*j)\n",
    "plotlattice(lattice)\n",
    "lattice = manyStepsOnePlot(lattice,10)"
   ]
  },
  {
   "cell_type": "code",
   "execution_count": null,
   "metadata": {},
   "outputs": [],
   "source": []
  }
 ],
 "metadata": {
  "kernelspec": {
   "display_name": "Python 3",
   "language": "python",
   "name": "python3"
  },
  "language_info": {
   "codemirror_mode": {
    "name": "ipython",
    "version": 3
   },
   "file_extension": ".py",
   "mimetype": "text/x-python",
   "name": "python",
   "nbconvert_exporter": "python",
   "pygments_lexer": "ipython3",
   "version": "3.7.0"
  }
 },
 "nbformat": 4,
 "nbformat_minor": 2
}
